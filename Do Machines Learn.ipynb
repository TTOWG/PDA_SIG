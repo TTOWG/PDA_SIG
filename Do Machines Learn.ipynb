{
 "cells": [
  {
   "cell_type": "markdown",
   "id": "55dc5c28",
   "metadata": {},
   "source": [
    "#### _... to the only wise God!_"
   ]
  },
  {
   "cell_type": "markdown",
   "id": "2c441bf8",
   "metadata": {},
   "source": [
    "# Introduction"
   ]
  },
  {
   "cell_type": "markdown",
   "id": "06950800",
   "metadata": {},
   "source": [
    "In the early days of my interest in machine learning (ML), the definition of the concept always got me curious! Each time I got told or read that machines (computers) are made to analyze and recognize patterns/relationships in data _without relying on standard rule-based programming practices_, I silently wondered about the last phrase of that definition. My naive understanding is that a computer has no mind of its own, and must get explicitly programmed on just any task demanded of it. While I am still no more than a rookie in ML (disappointedly), I at least now understand that indeed, machines do learn _without relying on standard rule-based programs_.\n",
    "\n",
    "In this piece, I now attempt to demostrate to my fellow rookies that machines do learn! First, I present a small dataset (10-point, 2-dimension). I challenge you to mentally/visually determine if the data points naturally form clusters or sub-groups. I anticipate that by merely looking at the raw dataset (in its numerical form), you will discover three (3) natural clusters therein. Now, pause and take a look at the data below. \n",
    "\n",
    "Welcome back! Were you able to discover the three clusters of points in the data? That was **YOU LEARNING**!\n",
    "\n",
    "Now, this piece is to demonstrate a **MACHINE LEARNING** (i.e. discovering) the same pattern in that same data. That is, I will get a machine (specifically, K-Means clustering algorithm) to classify the dataset into clusters, _without explicitly programming the clustering rules_; I'll let the algorithm figure it out. Humanly figuring out the clustering rules and explicitly programming such into computer is **NOT machine learning**! In my opinion, that's merely **'machine' implementing** the outcome of human learning.\n",
    "\n",
    "For the sake of clarity, I will first do a 'machine' implementation of my own mental/visual clustering attempt. Thereafter, I will then showcase a truly machine learning solution to the challenge. Did you just asked _why relying on machine to learn patterns that I could as well learn myself?_ I will conclude this piece by highlighting the limitations of human learning, and showing that machine learning can surpass such limitations."
   ]
  },
  {
   "cell_type": "markdown",
   "id": "ffdd19ed",
   "metadata": {},
   "source": [
    "# Data Importation"
   ]
  },
  {
   "cell_type": "code",
   "execution_count": 6,
   "id": "b6efe9e6",
   "metadata": {},
   "outputs": [
    {
     "data": {
      "text/html": [
       "<div>\n",
       "<style scoped>\n",
       "    .dataframe tbody tr th:only-of-type {\n",
       "        vertical-align: middle;\n",
       "    }\n",
       "\n",
       "    .dataframe tbody tr th {\n",
       "        vertical-align: top;\n",
       "    }\n",
       "\n",
       "    .dataframe thead th {\n",
       "        text-align: right;\n",
       "    }\n",
       "</style>\n",
       "<table border=\"1\" class=\"dataframe\">\n",
       "  <thead>\n",
       "    <tr style=\"text-align: right;\">\n",
       "      <th></th>\n",
       "      <th>test_score</th>\n",
       "      <th>exam_score</th>\n",
       "    </tr>\n",
       "    <tr>\n",
       "      <th>Student_ID</th>\n",
       "      <th></th>\n",
       "      <th></th>\n",
       "    </tr>\n",
       "  </thead>\n",
       "  <tbody>\n",
       "    <tr>\n",
       "      <th>1</th>\n",
       "      <td>8</td>\n",
       "      <td>20</td>\n",
       "    </tr>\n",
       "    <tr>\n",
       "      <th>2</th>\n",
       "      <td>29</td>\n",
       "      <td>67</td>\n",
       "    </tr>\n",
       "    <tr>\n",
       "      <th>3</th>\n",
       "      <td>28</td>\n",
       "      <td>62</td>\n",
       "    </tr>\n",
       "    <tr>\n",
       "      <th>4</th>\n",
       "      <td>20</td>\n",
       "      <td>45</td>\n",
       "    </tr>\n",
       "    <tr>\n",
       "      <th>5</th>\n",
       "      <td>18</td>\n",
       "      <td>40</td>\n",
       "    </tr>\n",
       "    <tr>\n",
       "      <th>6</th>\n",
       "      <td>19</td>\n",
       "      <td>43</td>\n",
       "    </tr>\n",
       "    <tr>\n",
       "      <th>7</th>\n",
       "      <td>6</td>\n",
       "      <td>19</td>\n",
       "    </tr>\n",
       "    <tr>\n",
       "      <th>8</th>\n",
       "      <td>17</td>\n",
       "      <td>40</td>\n",
       "    </tr>\n",
       "    <tr>\n",
       "      <th>9</th>\n",
       "      <td>22</td>\n",
       "      <td>48</td>\n",
       "    </tr>\n",
       "    <tr>\n",
       "      <th>10</th>\n",
       "      <td>16</td>\n",
       "      <td>39</td>\n",
       "    </tr>\n",
       "  </tbody>\n",
       "</table>\n",
       "</div>"
      ],
      "text/plain": [
       "            test_score  exam_score\n",
       "Student_ID                        \n",
       "1                    8          20\n",
       "2                   29          67\n",
       "3                   28          62\n",
       "4                   20          45\n",
       "5                   18          40\n",
       "6                   19          43\n",
       "7                    6          19\n",
       "8                   17          40\n",
       "9                   22          48\n",
       "10                  16          39"
      ]
     },
     "execution_count": 6,
     "metadata": {},
     "output_type": "execute_result"
    }
   ],
   "source": [
    "### Import needed library\n",
    "import pandas as pd    # Needed for handling data frame\n",
    "\n",
    "### Import data from CSV file\n",
    "scores = pd.read_csv(\"data_score.csv\" , index_col = 'Student_ID')\n",
    "\n",
    "### Display data\n",
    "scores"
   ]
  },
  {
   "cell_type": "markdown",
   "id": "371d22dd",
   "metadata": {},
   "source": [
    "# Human Learning: Mental/Visual Clustering Attempt"
   ]
  },
  {
   "cell_type": "markdown",
   "id": "fc8e893b",
   "metadata": {},
   "source": [
    "Looking at two columns of the data frame in its raw numerical form, one could see the following patterns:\n",
    "\n",
    "1. Student $1$ and Student $3$ seems to have very high values both in test_score and exam_score.\n",
    "1. Noticeably, Student $1$ and Student $7$ have low values in both test_score and exam_score\n",
    "1. All other data points (students) seem to have moderate values for both test_score and exam_score columns.\n",
    "\n",
    "On the basis of these observations, one could then formulate rules, in form of conditional statements and threshold values, that may be used to classify the data points into the three clusters. Essentially, the threshold values are the '_lessons_' to be learnt.\n",
    "\n",
    "*  Cluster_1: $test\\_score \\geq 25$ and $exam\\_score \\geq 60$\n",
    "\n",
    "       > Student 2 and Student 3 belong here\n",
    "\n",
    "*  Cluster_2: $test\\_score \\geq 15$ and $exam\\_score \\geq 30$\n",
    "\n",
    "       > Students 4, 5, 6, 8, 9 and 10 belong here\n",
    "\n",
    "*  Cluster_3: $test\\_score < 15$ and $exam\\_score < 30$\n",
    "\n",
    "       > Student 1 and Student 7 belong here\n",
    "\n",
    "And that's it! '_Lessons_' learnt; threshold values chosen; and data points classified into three distinct clusters, all by a human agent staring at the data.\n",
    "\n",
    "Admittedly, this human-learning attempt may be aided by computer via visualization. A simple x-y scatter plot of the data (as shown below) would aid the human eye in fixing the threshold values. However, the use of visualization tools to discover the cluster is still NOT machine learning; at best, it is Data Analytics (DA). So, why use machine learning, if DA can do it? Again, I will hereafter highlight the limitation of this visualization approach, and show that machine learning can surpass such limitation. In any case, to the extent that a human agent chooses the threshold values for the numerical or the visual form of the data, it is human learning. The agent (human or machine) that chooses the threshold values is the learning agent!"
   ]
  },
  {
   "cell_type": "code",
   "execution_count": 15,
   "id": "d20b6de8",
   "metadata": {},
   "outputs": [
    {
     "data": {
      "image/png": "[encoded data removed]",
      "text/plain": [
       "<Figure size 432x216 with 1 Axes>"
      ]
     },
     "metadata": {
      "needs_background": "light"
     },
     "output_type": "display_data"
    }
   ],
   "source": [
    "### Import library:\n",
    "import matplotlib.pyplot as plt\n",
    "\n",
    "### Create axes:\n",
    "fig, ax = plt.subplots(figsize=(6, 3))\n",
    "\n",
    "### Specify data and variables to plot\n",
    "ax.plot(scores[\"test_score\"], scores[\"exam_score\"], linestyle=\"None\", marker=\"o\")\n",
    "\n",
    "### Label axes:\n",
    "ax.set_xlabel(\"test_score\")\n",
    "ax.set_ylabel(\"exam_score\")\n",
    "\n",
    "for ind in scores.index:\n",
    "    ax.annotate(ind, xy=(scores.loc[ind]), xytext=(1, -10), textcoords=\"offset pixels\")\n",
    "\n",
    "### Display plot\n",
    "plt.show()"
   ]
  },
  {
   "cell_type": "markdown",
   "id": "da22021e",
   "metadata": {},
   "source": [
    "# Machine Implementing Human Learning"
   ]
  },
  {
   "cell_type": "markdown",
   "id": "da397f4d",
   "metadata": {},
   "source": [
    "Here, the clustering rules (i.e. the conditional statements) are explicitly programmed, as a machine implementation of the human-learnt threshold values. Specifically, Function _clust_ is created to implement the rules. This function requires both the data to be clustered and the threshold values as inputs arguments. The threshold values should be presented as a nested dictionary."
   ]
  },
  {
   "cell_type": "code",
   "execution_count": 8,
   "id": "da294e86",
   "metadata": {},
   "outputs": [
    {
     "data": {
      "text/html": [
       "<div>\n",
       "<style scoped>\n",
       "    .dataframe tbody tr th:only-of-type {\n",
       "        vertical-align: middle;\n",
       "    }\n",
       "\n",
       "    .dataframe tbody tr th {\n",
       "        vertical-align: top;\n",
       "    }\n",
       "\n",
       "    .dataframe thead th {\n",
       "        text-align: right;\n",
       "    }\n",
       "</style>\n",
       "<table border=\"1\" class=\"dataframe\">\n",
       "  <thead>\n",
       "    <tr style=\"text-align: right;\">\n",
       "      <th></th>\n",
       "      <th>test_score</th>\n",
       "      <th>exam_score</th>\n",
       "      <th>Cluster</th>\n",
       "    </tr>\n",
       "    <tr>\n",
       "      <th>Student_ID</th>\n",
       "      <th></th>\n",
       "      <th></th>\n",
       "      <th></th>\n",
       "    </tr>\n",
       "  </thead>\n",
       "  <tbody>\n",
       "    <tr>\n",
       "      <th>1</th>\n",
       "      <td>8</td>\n",
       "      <td>20</td>\n",
       "      <td>3</td>\n",
       "    </tr>\n",
       "    <tr>\n",
       "      <th>2</th>\n",
       "      <td>29</td>\n",
       "      <td>67</td>\n",
       "      <td>1</td>\n",
       "    </tr>\n",
       "    <tr>\n",
       "      <th>3</th>\n",
       "      <td>28</td>\n",
       "      <td>62</td>\n",
       "      <td>1</td>\n",
       "    </tr>\n",
       "    <tr>\n",
       "      <th>4</th>\n",
       "      <td>20</td>\n",
       "      <td>45</td>\n",
       "      <td>2</td>\n",
       "    </tr>\n",
       "    <tr>\n",
       "      <th>5</th>\n",
       "      <td>18</td>\n",
       "      <td>40</td>\n",
       "      <td>2</td>\n",
       "    </tr>\n",
       "    <tr>\n",
       "      <th>6</th>\n",
       "      <td>19</td>\n",
       "      <td>43</td>\n",
       "      <td>2</td>\n",
       "    </tr>\n",
       "    <tr>\n",
       "      <th>7</th>\n",
       "      <td>6</td>\n",
       "      <td>19</td>\n",
       "      <td>3</td>\n",
       "    </tr>\n",
       "    <tr>\n",
       "      <th>8</th>\n",
       "      <td>17</td>\n",
       "      <td>40</td>\n",
       "      <td>2</td>\n",
       "    </tr>\n",
       "    <tr>\n",
       "      <th>9</th>\n",
       "      <td>22</td>\n",
       "      <td>48</td>\n",
       "      <td>2</td>\n",
       "    </tr>\n",
       "    <tr>\n",
       "      <th>10</th>\n",
       "      <td>16</td>\n",
       "      <td>39</td>\n",
       "      <td>2</td>\n",
       "    </tr>\n",
       "  </tbody>\n",
       "</table>\n",
       "</div>"
      ],
      "text/plain": [
       "            test_score  exam_score Cluster\n",
       "Student_ID                                \n",
       "1                    8          20       3\n",
       "2                   29          67       1\n",
       "3                   28          62       1\n",
       "4                   20          45       2\n",
       "5                   18          40       2\n",
       "6                   19          43       2\n",
       "7                    6          19       3\n",
       "8                   17          40       2\n",
       "9                   22          48       2\n",
       "10                  16          39       2"
      ]
     },
     "execution_count": 8,
     "metadata": {},
     "output_type": "execute_result"
    }
   ],
   "source": [
    "### Defining a function to implement the clustering\n",
    "def clust(data, threshold_dict):\n",
    "    cluster = []\n",
    "    for test, exam in zip(data['test_score'],data['exam_score']):\n",
    "        if (test >= threshold_dict['cluster_1']['test_score']) and (exam >= threshold_dict['cluster_1']['exam_score']):\n",
    "            cluster.append('1')\n",
    "        elif (test >= threshold_dict['cluster_2']['test_score']) and (exam >= threshold_dict['cluster_2']['exam_score']):\n",
    "            cluster.append('2')\n",
    "        else:\n",
    "            cluster.append('3')\n",
    "    data['Cluster'] = cluster\n",
    "    return(data)\n",
    "\n",
    "### Creating a copy of the dataset\n",
    "scores_hl = scores.copy(deep=True)\n",
    "\n",
    "### Presenting the human-learnt threshold values as a dictionary\n",
    "threshold_dict = {'cluster_1': {'test_score': 25, 'exam_score': 60}, 'cluster_2': {'test_score': 15, 'exam_score': 30}}\n",
    "\n",
    "### Calling the function on the scores_hl dataset with threshold values.\n",
    "clust(scores_hl, threshold_dict)"
   ]
  },
  {
   "cell_type": "markdown",
   "id": "bcc491bf",
   "metadata": {},
   "source": [
    "Inasmuch as Function _clust_ requires the threshold values be given, it is not learning the threshold values. Rather, it is merely implementing it. Writing such lines of codes as in the definition of Function _clust_ is what is referred to as _rule-based programming practices_. And, that is what machine learning is said to NOT rely on."
   ]
  },
  {
   "cell_type": "markdown",
   "id": "81dbb3e9",
   "metadata": {},
   "source": [
    "# Now, Machine Learning: K-Means Clustering"
   ]
  },
  {
   "cell_type": "markdown",
   "id": "ef3dafbc",
   "metadata": {},
   "source": [
    "Here, I simply showcase the performance of a machine learning algorithm (K-Means) in clustering the given dataset. The keynote point here is the fact that the K-Means algorithm performs the clustering task WITHOUT requring the threshold values or any conditional statements as clustering rules. The algorithm figures out the clustering rules by itself. However, the algorithm requires to know the desired number of clusters (three, in thus case)."
   ]
  },
  {
   "cell_type": "code",
   "execution_count": 10,
   "id": "1023f194",
   "metadata": {},
   "outputs": [
    {
     "data": {
      "text/plain": [
       "array([1, 2, 2, 0, 0, 0, 1, 0, 0, 0])"
      ]
     },
     "execution_count": 10,
     "metadata": {},
     "output_type": "execute_result"
    }
   ],
   "source": [
    "### Create a copy of the dataset\n",
    "scores_ml = scores.copy(deep=True)\n",
    " \n",
    "### Import the K-Means function\n",
    "from sklearn.cluster import KMeans\n",
    "\n",
    "### Call the function.\n",
    "kmeans_clust = KMeans(n_clusters=3, random_state=2, n_init=20).fit(scores_ml)\n",
    "\n",
    "### View the output of KMeans clustering: the cluster labels for each datapoint.\n",
    "kmeans_clust.labels_"
   ]
  },
  {
   "cell_type": "markdown",
   "id": "2429f59a",
   "metadata": {},
   "source": [
    "From the output shown above, it is clear that the K-Means algorithm 'learnt' the same clustering pattern as that humanly learnt earlier. However, the K-Means algorithm labelled the clusters differently as _Cluster 0_, _Cluster 1_ and _Cluster 2_; respectively corresponding to _Cluster 2_, _Cluster 3_ and _Cluster 1_ of the human learning attempt. In the code cell that follows, the K-Means cluster labels are respectively mapped to intergers $2$, $3$ and $1$, in order to allow the comparison with the output of the human learning attempt."
   ]
  },
  {
   "cell_type": "code",
   "execution_count": 11,
   "id": "c131fc0d",
   "metadata": {},
   "outputs": [
    {
     "data": {
      "text/html": [
       "<div>\n",
       "<style scoped>\n",
       "    .dataframe tbody tr th:only-of-type {\n",
       "        vertical-align: middle;\n",
       "    }\n",
       "\n",
       "    .dataframe tbody tr th {\n",
       "        vertical-align: top;\n",
       "    }\n",
       "\n",
       "    .dataframe thead th {\n",
       "        text-align: right;\n",
       "    }\n",
       "</style>\n",
       "<table border=\"1\" class=\"dataframe\">\n",
       "  <thead>\n",
       "    <tr style=\"text-align: right;\">\n",
       "      <th></th>\n",
       "      <th>test_score</th>\n",
       "      <th>exam_score</th>\n",
       "      <th>Cluster</th>\n",
       "    </tr>\n",
       "    <tr>\n",
       "      <th>Student_ID</th>\n",
       "      <th></th>\n",
       "      <th></th>\n",
       "      <th></th>\n",
       "    </tr>\n",
       "  </thead>\n",
       "  <tbody>\n",
       "    <tr>\n",
       "      <th>1</th>\n",
       "      <td>8</td>\n",
       "      <td>20</td>\n",
       "      <td>3</td>\n",
       "    </tr>\n",
       "    <tr>\n",
       "      <th>2</th>\n",
       "      <td>29</td>\n",
       "      <td>67</td>\n",
       "      <td>1</td>\n",
       "    </tr>\n",
       "    <tr>\n",
       "      <th>3</th>\n",
       "      <td>28</td>\n",
       "      <td>62</td>\n",
       "      <td>1</td>\n",
       "    </tr>\n",
       "    <tr>\n",
       "      <th>4</th>\n",
       "      <td>20</td>\n",
       "      <td>45</td>\n",
       "      <td>2</td>\n",
       "    </tr>\n",
       "    <tr>\n",
       "      <th>5</th>\n",
       "      <td>18</td>\n",
       "      <td>40</td>\n",
       "      <td>2</td>\n",
       "    </tr>\n",
       "    <tr>\n",
       "      <th>6</th>\n",
       "      <td>19</td>\n",
       "      <td>43</td>\n",
       "      <td>2</td>\n",
       "    </tr>\n",
       "    <tr>\n",
       "      <th>7</th>\n",
       "      <td>6</td>\n",
       "      <td>19</td>\n",
       "      <td>3</td>\n",
       "    </tr>\n",
       "    <tr>\n",
       "      <th>8</th>\n",
       "      <td>17</td>\n",
       "      <td>40</td>\n",
       "      <td>2</td>\n",
       "    </tr>\n",
       "    <tr>\n",
       "      <th>9</th>\n",
       "      <td>22</td>\n",
       "      <td>48</td>\n",
       "      <td>2</td>\n",
       "    </tr>\n",
       "    <tr>\n",
       "      <th>10</th>\n",
       "      <td>16</td>\n",
       "      <td>39</td>\n",
       "      <td>2</td>\n",
       "    </tr>\n",
       "  </tbody>\n",
       "</table>\n",
       "</div>"
      ],
      "text/plain": [
       "            test_score  exam_score  Cluster\n",
       "Student_ID                                 \n",
       "1                    8          20        3\n",
       "2                   29          67        1\n",
       "3                   28          62        1\n",
       "4                   20          45        2\n",
       "5                   18          40        2\n",
       "6                   19          43        2\n",
       "7                    6          19        3\n",
       "8                   17          40        2\n",
       "9                   22          48        2\n",
       "10                  16          39        2"
      ]
     },
     "execution_count": 11,
     "metadata": {},
     "output_type": "execute_result"
    }
   ],
   "source": [
    "### Create a dictionary for the mapping\n",
    "mapping_dict = {'0': 2, '1': 3, '2': 1}\n",
    "\n",
    "### Effect the mapping with a list comprehension\n",
    "cluster_list = [mapping_dict[str(x)] for x in kmeans_clust.labels_]\n",
    "\n",
    "### Append the 'Cluster' column to the dataframe\n",
    "scores_ml['Cluster'] = cluster_list\n",
    "\n",
    "### View the output.\n",
    "scores_ml"
   ]
  },
  {
   "cell_type": "markdown",
   "id": "6799bc47",
   "metadata": {},
   "source": [
    "The machine learning attempt gives same output as that obtained in the human learning attempt."
   ]
  },
  {
   "cell_type": "markdown",
   "id": "1effa16d",
   "metadata": {},
   "source": [
    "So, just how did the K-Means algorithm figure out the clustering pattern in the dataset?! How did it learn? Simple, it mimics humans! If you made a human attempt at discovering the clustering pattern in the data, you probably juggled the numbers in your head and iteratively aligned them into clusters on the basis of closeness and distinctiveness. Closeness: ensuring that datapoints in the same cluster are as close to themselves as much as possible. Distinctiveness: ensuring that each cluster is unmistakably different from other clusters. You probably had initially aligned a datapoint to a wrong cluster, only for you to later (in another iteration of juggling) re-aligned it to another cluster; because you felt it was closer to the datapoints in this other cluster. It is likely that after you had suceeded in aligning all datapoints, you went on to fix the threshold values as some intermediate numbers between the clusters. Quite interestingly, this iterative process of juggling/alignment/re-alignment is exacltly what goes on under the hood with the K-Means algorithm. \n",
    "\n",
    "The algorithm commences with a random (arbitrary) guess of the $K$ cluster centers in the feature space ($K$ being the desired number of clusters). Each cluster center is supposedly the middle (mean) of all datapoints in that cluster - hence, the name K-Means. With the initial guess of the cluster centers made, the algorithm aligns each datapoint to the closest cluster center; that is the first iteration. Thereafter, the algorithm computes (no more guess) new values of the cluster centers based on the datapoints attached to each center. Clearly, the computed centers (means) would be different from the initial guessed centers; that is, the centers would shift. With the shift in centers, the algorithms re-aligns the datapoints their closest centers. In this re-alignment, some datapoints would align with another center other than those they previuosly aligned with. And of course, with the re-alignment, the centers get re-computed and shifted again. This iterative process of computating/re-aligning/shifting continues until a criterion is met. This way, the K-Means algorithm is able to learn the location of the clsuter centers and perform the clustering by itself; neither requiring that humans should specify any threshold values nor needing explicit programming of rules."
   ]
  },
  {
   "cell_type": "markdown",
   "id": "3e4031ee",
   "metadata": {},
   "source": [
    "Okay, machines learn; but, why deploying machines when humans can figure things out?! Just imagine how dizzying and overwhelming the head juggling will be if the dataset contains thousands of datapoints. You were able to mentally hold the datapoints while juggling them because there are just 10 of them; it would be impossible if there are thousands. Further still, things could become more compicated if there are more features to be considered (other than just _test_score_ and _exam_score_). Imagine a dataset with a dozen columns of features! So, it is clear that human learning is only limited to a small dataset - with a few rows and two/three columns. In practice, a dataset would be larger than such small size that humans can handle - that is where machine learning thrives. Also, attempting to aid human learning via computer visualization would not be possible for a dataset containing more than 3 columns of features. For example, a scatter plot with 12 axes would not be possible. Again, a machine learning algorithm would not be so limited."
   ]
  },
  {
   "cell_type": "markdown",
   "id": "6be11037",
   "metadata": {},
   "source": [
    "# Conclusion"
   ]
  },
  {
   "cell_type": "markdown",
   "id": "cc10ce44",
   "metadata": {},
   "source": [
    "**Indeed, machines do learn!** The machine that learnt in this demonstration is the K-Means algorithm, and the lesson learnt is the set of values of cluster centers. While this article choses the K-Means algorithm for demonstration, the arguments presented here are true for other machine learning algorithims."
   ]
  },
  {
   "cell_type": "code",
   "execution_count": null,
   "id": "e6629975",
   "metadata": {},
   "outputs": [],
   "source": []
  }
 ],
 "metadata": {
  "kernelspec": {
   "display_name": "Python 3 (ipykernel)",
   "language": "python",
   "name": "python3"
  },
  "language_info": {
   "codemirror_mode": {
    "name": "ipython",
    "version": 3
   },
   "file_extension": ".py",
   "mimetype": "text/x-python",
   "name": "python",
   "nbconvert_exporter": "python",
   "pygments_lexer": "ipython3",
   "version": "3.9.12"
  }
 },
 "nbformat": 4,
 "nbformat_minor": 5
}
